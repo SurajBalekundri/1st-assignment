{
 "cells": [
  {
   "cell_type": "code",
   "execution_count": 7,
   "id": "c1e49b45",
   "metadata": {},
   "outputs": [],
   "source": [
    "# To calculate determinant\n",
    "import numpy as np\n",
    "from numpy import linalg as la"
   ]
  },
  {
   "cell_type": "code",
   "execution_count": 8,
   "id": "611da390",
   "metadata": {},
   "outputs": [
    {
     "data": {
      "text/plain": [
       "array([[1, 2, 3],\n",
       "       [4, 5, 6],\n",
       "       [7, 8, 9]])"
      ]
     },
     "execution_count": 8,
     "metadata": {},
     "output_type": "execute_result"
    }
   ],
   "source": [
    "a=np.array([[1,2,3],[4,5,6],[7,8,9]])\n",
    "a"
   ]
  },
  {
   "cell_type": "code",
   "execution_count": 9,
   "id": "02856588",
   "metadata": {},
   "outputs": [
    {
     "data": {
      "text/plain": [
       "6.66133814775094e-16"
      ]
     },
     "execution_count": 9,
     "metadata": {},
     "output_type": "execute_result"
    }
   ],
   "source": [
    "la.det(a)"
   ]
  },
  {
   "cell_type": "code",
   "execution_count": 10,
   "id": "25ef5d7b",
   "metadata": {},
   "outputs": [],
   "source": [
    "# To calculate co factor, adjoint, Inverse"
   ]
  },
  {
   "cell_type": "code",
   "execution_count": 11,
   "id": "3031635b",
   "metadata": {},
   "outputs": [],
   "source": [
    "from numpy import linalg as la\n",
    "import numpy as np"
   ]
  },
  {
   "cell_type": "code",
   "execution_count": 12,
   "id": "7039b654",
   "metadata": {},
   "outputs": [
    {
     "data": {
      "text/plain": [
       "array([[1, 3],\n",
       "       [2, 4]])"
      ]
     },
     "execution_count": 12,
     "metadata": {},
     "output_type": "execute_result"
    }
   ],
   "source": [
    "a=np.array([[1,3],[2,4]])\n",
    "a"
   ]
  },
  {
   "cell_type": "code",
   "execution_count": 13,
   "id": "1208a65b",
   "metadata": {},
   "outputs": [
    {
     "data": {
      "text/plain": [
       "array([[-2. ,  1.5],\n",
       "       [ 1. , -0.5]])"
      ]
     },
     "execution_count": 13,
     "metadata": {},
     "output_type": "execute_result"
    }
   ],
   "source": [
    "la.inv(a)"
   ]
  },
  {
   "cell_type": "raw",
   "id": "594e9e3b",
   "metadata": {},
   "source": [
    "# Solving matrix with inverse\n",
    "sy yard(x1) floor(x2)    price\n",
    "150            5          100\n",
    "100            5          60\n",
    "120            10         90\n",
    "\n",
    "linear equastion (y)= a1x1 + a2x2 + b\n",
    "ie is\n",
    "150a1 + 5a2 + b = 100\n",
    "100a1 + 5a2 + b = 60\n",
    "120a1 + 10a2 + b = 90\n",
    "\n",
    "its matrix form\n",
    "150  5 1      a1     =   100\n",
    "100  5 1      a2     =   60\n",
    "120 10 1      b      =   90\n",
    "\n",
    "xa=y\n",
    "a=(inverse x) y"
   ]
  },
  {
   "cell_type": "code",
   "execution_count": 14,
   "id": "18f3f04c",
   "metadata": {},
   "outputs": [],
   "source": [
    "import numpy as py\n"
   ]
  },
  {
   "cell_type": "code",
   "execution_count": 15,
   "id": "a8109bd4",
   "metadata": {},
   "outputs": [
    {
     "data": {
      "text/plain": [
       "array([[150,   5,   1],\n",
       "       [100,   5,   1],\n",
       "       [120,  10,   1]])"
      ]
     },
     "execution_count": 15,
     "metadata": {},
     "output_type": "execute_result"
    }
   ],
   "source": [
    "x=np.array([[150,5,1],[100,5,1],[120,10,1]])\n",
    "x"
   ]
  },
  {
   "cell_type": "code",
   "execution_count": 16,
   "id": "f9d872f3",
   "metadata": {},
   "outputs": [
    {
     "data": {
      "text/plain": [
       "array([100,  60,  90])"
      ]
     },
     "execution_count": 16,
     "metadata": {},
     "output_type": "execute_result"
    }
   ],
   "source": [
    "y=np.array([100,60,90])\n",
    "y"
   ]
  },
  {
   "cell_type": "code",
   "execution_count": 17,
   "id": "a8ba1231",
   "metadata": {},
   "outputs": [
    {
     "data": {
      "text/plain": [
       "array([[ 2.00000000e-02, -2.00000000e-02, -7.40148683e-19],\n",
       "       [-8.00000000e-02, -1.20000000e-01,  2.00000000e-01],\n",
       "       [-1.60000000e+00,  3.60000000e+00, -1.00000000e+00]])"
      ]
     },
     "execution_count": 17,
     "metadata": {},
     "output_type": "execute_result"
    }
   ],
   "source": [
    "np.linalg.inv(x)"
   ]
  },
  {
   "cell_type": "code",
   "execution_count": null,
   "id": "6bb53501",
   "metadata": {},
   "outputs": [],
   "source": []
  },
  {
   "cell_type": "code",
   "execution_count": 18,
   "id": "278f54b0",
   "metadata": {},
   "outputs": [
    {
     "data": {
      "text/plain": [
       "array([  0.8,   2.8, -34. ])"
      ]
     },
     "execution_count": 18,
     "metadata": {},
     "output_type": "execute_result"
    }
   ],
   "source": [
    "np.linalg.inv(x)@y"
   ]
  },
  {
   "cell_type": "raw",
   "id": "fc2ef465",
   "metadata": {},
   "source": [
    "- Above valves are [a1 ,a2, b] = [  0.8,   2.8, -34. ]\n",
    "- From this we can write 0.8x1 + 2.8x2 - 34 = y (y is nothing but price of the appartment) by changing x1 ie is floor area and x2 ie is floor, you'll get probablr prince of that appartment.\n",
    "- ex: 180sq yard appartment on 19 floor. what is the price."
   ]
  },
  {
   "cell_type": "code",
   "execution_count": 21,
   "id": "9f3da1ec",
   "metadata": {},
   "outputs": [
    {
     "data": {
      "text/plain": [
       "60.0"
      ]
     },
     "execution_count": 21,
     "metadata": {},
     "output_type": "execute_result"
    }
   ],
   "source": [
    "0.8*100+2.8*5-34"
   ]
  },
  {
   "cell_type": "code",
   "execution_count": 20,
   "id": "bb3c960b",
   "metadata": {},
   "outputs": [
    {
     "data": {
      "text/plain": [
       "163.2"
      ]
     },
     "execution_count": 20,
     "metadata": {},
     "output_type": "execute_result"
    }
   ],
   "source": [
    ".8*180+2.8*19-34"
   ]
  },
  {
   "cell_type": "code",
   "execution_count": 22,
   "id": "0d9a7976",
   "metadata": {},
   "outputs": [],
   "source": [
    "#Eigen vector and Eigen"
   ]
  },
  {
   "cell_type": "code",
   "execution_count": null,
   "id": "2e877c33",
   "metadata": {},
   "outputs": [],
   "source": [
    "\n"
   ]
  }
 ],
 "metadata": {
  "kernelspec": {
   "display_name": "Python 3 (ipykernel)",
   "language": "python",
   "name": "python3"
  },
  "language_info": {
   "codemirror_mode": {
    "name": "ipython",
    "version": 3
   },
   "file_extension": ".py",
   "mimetype": "text/x-python",
   "name": "python",
   "nbconvert_exporter": "python",
   "pygments_lexer": "ipython3",
   "version": "3.9.7"
  }
 },
 "nbformat": 4,
 "nbformat_minor": 5
}
